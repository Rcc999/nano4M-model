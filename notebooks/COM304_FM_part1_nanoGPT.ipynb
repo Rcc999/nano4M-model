{
 "cells": [
  {
   "cell_type": "markdown",
   "id": "4bf7f397-467f-4f24-a18f-4143eca2c3ed",
   "metadata": {
    "tags": []
   },
   "source": [
    "# COM-304 Foundation Models: Part 1 - nanoGPT\n",
    "\n",
    "We build nano4M in three parts:\n",
    "1) In this first part, we start by implementing the necessary building blocks to construct an autoregressive Transformer, like GPT.\n",
    "2) In part 2, we will build a masked model in the style of MaskGIT. \n",
    "3) In part 3, we will build a simple 4M-like multimodal model.\n",
    "\n",
    "#### Goals:\n",
    "\n",
    "The goal of this first part is to familiarize yourself with the following topics:\n",
    "- Causal attention\n",
    "- Transformer decoder-only (e.g. GPT, LLaMA, ...) models\n",
    "- Basic tokenization\n",
    "- Basic positional encodings\n",
    "- Autoregressive modelling on text and images\n",
    "- Autoregressive inference\n",
    "\n",
    "This notebook should give you a solid foundation of working with autoregressive Transformer models and get you \"thinking with tokens\".\n",
    "\n",
    "If you want to know more about these topics, please see some of the reading material in the lectures and at the bottom of this notebook, and feel free to ask the TAs.\n",
    "\n",
    "\n",
    "#### Instructions:\n",
    "\n",
    "- Your task is to fill in the missing code in the acompagning codebase (highlighted by `???`), run the training loops and evaluate the trained models with this notebook.\n",
    "- Submit the notebook with all cells executed.\n",
    "- The notebooks are group homework."
   ]
  },
  {
   "cell_type": "code",
   "execution_count": null,
   "id": "14a22cac",
   "metadata": {},
   "outputs": [],
   "source": []
  },
  {
   "cell_type": "markdown",
   "id": "7c7ba70f-25dd-4bdb-953b-d5e4547569ae",
   "metadata": {
    "tags": []
   },
   "source": [
    "---\n",
    "\n",
    "## 1 Setup"
   ]
  },
  {
   "cell_type": "markdown",
   "id": "4f4530be-c761-4957-b8f9-1bca7a35f761",
   "metadata": {},
   "source": [
    "### 1.1 Dependencies and environment\n",
    "\n",
    "The notebook should be run on one GPU, while the actual training requires 1-2 GPUs depending on the config.\n",
    "\n",
    "The required packages for training are specified in `pyproject.toml`. \n",
    "We provide a convenience script, `setup_env.sh`, which creates a `nanofm` environment and Jupyter Kernel, and installs the requirements.\n",
    "\n",
    "After running `bash setup_env.sh`, you can activate the environment with `source activate nanofm`. Similarly, you will have access to the `nano4M kernel (nanofm)` in your Jupyter notebooks for executing the following cells.\n"
   ]
  },
  {
   "cell_type": "markdown",
   "id": "92056502-0af7-49eb-bb35-84e3f55a23ed",
   "metadata": {},
   "source": [
    "### 1.2 Codebase overview\n",
    "\n",
    "This nano4M codebase is a heavily simplified version of the original 4M codebase. We will use it to implement nano versions of [GPT](https://cdn.openai.com/better-language-models/language_models_are_unsupervised_multitask_learners.pdf) for autoregressive text and image generation, [MaskGIT](https://masked-generative-image-transformer.github.io/) for masked text and image generation, and [4M](https://4m.epfl.ch/) for multimodal generation.\n",
    "\n",
    "The codebase is structured in the following manner:\n",
    "\n",
    "- `cfgs/`: Configs specifying exactly what model to train on what data, for how long, etc.\n",
    "- `nanofm`: \n",
    "    - `data`: Contains various data loaders, e.g. for text, vision, and multimodal datasets.\n",
    "    - `modeling`: Contains often used modeling utils, such as Transformer layer definitions.\n",
    "    - `models`: Specific instantiations of models that define the model, forward pass, loss, and generation loop.\n",
    "    - `utils`: Various helper utils related to training, checkpointing, etc.\n",
    "- `notebooks`: Check this directory for the instructions for parts 1-3. You will need to submit these notebooks.\n",
    "- `run_training.py`: This file contains the main training and evaluation loop."
   ]
  },
  {
   "cell_type": "code",
   "execution_count": null,
   "id": "5aa5dd92",
   "metadata": {},
   "outputs": [],
   "source": []
  },
  {
   "cell_type": "markdown",
   "id": "6a79d566-c02d-4dba-a34c-70cc1600abb6",
   "metadata": {},
   "source": [
    "### 1.3 Weights & Biases setup\n",
    "\n",
    "When training models, it's crucial to log training and validation metrics, as well as stats about the model training that can help to check the health and efficiency of a run.\n",
    "For example, we will log train and validation losses to check that the model is converging properly and is not not overfitting to the train set.\n",
    "Besides that, we log the average norm of the gradient updates to check that it is not exploding, as a sign of the health of the training run.\n",
    "\n",
    "For all of this, we will use Weights & Biases, which also automatically logs system stats like GPU utilization, memory usage, etc.\n",
    "Please visit https://wandb.ai/ and create an account in case you don't have one already. \n",
    "\n",
    "In https://wandb.ai/settings you should see an API key. If not, please create a new one. \n",
    "Copy this key and use it to [log in](https://docs.wandb.ai/ref/cli/wandb-login/) by calling `wandb login <KEY>`. You should see the message `wandb: W&B API key is configured`.\n",
    "You may alternatively log in to wandb by adding it as an environment variable: `export WANDB_API_KEY=<KEY>`.\n",
    "\n",
    "Now, when running training jobs on a new node, make sure to log in before starting the training, and remember to fill the `wandb_entity` entry in the configs with your wandb user name."
   ]
  },
  {
   "cell_type": "markdown",
   "id": "e3365eba-118f-4f63-96fe-1c9904fbc050",
   "metadata": {},
   "source": [
    "### 1.3 Imports"
   ]
  },
  {
   "cell_type": "code",
   "execution_count": 1,
   "id": "38061c15-c053-431a-9265-536b778fe5ca",
   "metadata": {},
   "outputs": [],
   "source": [
    "# Switch path to root of project\n",
    "import os\n",
    "os.environ[\"CUDA_VISIBLE_DEVICES\"]=\"0\"\n",
    "current_folder = globals()['_dh'][0]\n",
    "os.chdir(os.path.dirname(os.path.abspath(current_folder)))\n",
    "\n",
    "%load_ext autoreload\n",
    "%autoreload 2"
   ]
  },
  {
   "cell_type": "code",
   "execution_count": 2,
   "id": "ef049477-3435-4543-bef7-acfaea93c2bd",
   "metadata": {},
   "outputs": [
    {
     "name": "stderr",
     "output_type": "stream",
     "text": [
      "/opt/conda/envs/nanofm/lib/python3.10/site-packages/tqdm/auto.py:21: TqdmWarning: IProgress not found. Please update jupyter and ipywidgets. See https://ipywidgets.readthedocs.io/en/stable/user_install.html\n",
      "  from .autonotebook import tqdm as notebook_tqdm\n"
     ]
    },
    {
     "data": {
      "text/plain": [
       "<torch.autograd.grad_mode.set_grad_enabled at 0x7fcffc3068c0>"
      ]
     },
     "execution_count": 2,
     "metadata": {},
     "output_type": "execute_result"
    }
   ],
   "source": [
    "import re\n",
    "import torch\n",
    "from einops import rearrange\n",
    "from transformers import AutoTokenizer\n",
    "from tokenizers.processors import TemplateProcessing\n",
    "\n",
    "import matplotlib.pyplot as plt\n",
    "from mpl_toolkits.axes_grid1 import ImageGrid\n",
    "\n",
    "from nanofm.utils.checkpoint import load_model_from_safetensors\n",
    "from nanofm.data.vision.tokenized_mnist import create_tokenized_mnist_dataloader, detokenize_MNIST\n",
    "\n",
    "os.environ[\"TOKENIZERS_PARALLELISM\"] = \"false\"\n",
    "\n",
    "# The flag below controls whether to allow TF32 on matmul. This flag defaults to False in PyTorch 1.12 and later.\n",
    "torch.backends.cuda.matmul.allow_tf32 = True\n",
    "# The flag below controls whether to allow TF32 on cuDNN. This flag defaults to True.\n",
    "torch.backends.cudnn.allow_tf32 = True\n",
    "\n",
    "device = 'cuda' if torch.cuda.is_available() else 'cpu'\n",
    "torch.set_grad_enabled(False)"
   ]
  },
  {
   "cell_type": "code",
   "execution_count": null,
   "id": "918f9adc",
   "metadata": {},
   "outputs": [],
   "source": []
  },
  {
   "cell_type": "markdown",
   "id": "77511210-e44d-4ec6-8184-984b44db9ab9",
   "metadata": {
    "tags": []
   },
   "source": [
    "---\n",
    "\n",
    "## 2 Training nanoGPT on TinyStories for text generation\n",
    "\n",
    "In this exercise, we will implement a simplified autoregressive Transformer, similar to nanoGPT. \n",
    "We will train it on [TinyStories](https://arxiv.org/abs/2305.07759), a synthetically generated dataset of somewhat simple children's book stories. That focus allows us to train relatively small models that can generate coherent text and demonstrate some basic world knowledge."
   ]
  },
  {
   "cell_type": "markdown",
   "id": "c6eba328-3fb2-4d47-a950-204d8df454ec",
   "metadata": {
    "tags": []
   },
   "source": [
    "### 2.1 Overview and tasks\n",
    "\n",
    "To implement nanoGPT, we ask you to complete the subsections below by directly filling in the missing lines in the code base.\n",
    "\n",
    "Hint: After completing the implementation of nanoGPT, in case you are still debugging, you may want to run the image generation examples in section 3 first. They are significantly faster to train and may facilitate faster debugging."
   ]
  },
  {
   "cell_type": "markdown",
   "id": "4f6074f1-639a-44f8-9e3f-067361272b70",
   "metadata": {},
   "source": [
    "#### 2.1.1 MLP layer (10 points)\n",
    "\n",
    "In `nanofm.modeling.transformer_layers.Mlp`, implement the following two-layer Perceptron:\n",
    "\n",
    "$$ \\text{MLP}(X) = \\text{GeLU}(X W_1^T + b_1) W_2^T + b_2 $$\n",
    "\n",
    "Here, $\\text{GeLU}$ denotes the [GeLU activation function](https://pytorch.org/docs/stable/generated/torch.nn.GELU.html). \n",
    "The first linear layer projects x from dimension `in_features` to `hidden_features`, while the second projects it back to `out_features`.\n",
    "Commonly, the bias terms are disabled. Make sure to take into account the `bias` argument."
   ]
  },
  {
   "cell_type": "markdown",
   "id": "a36d429c-2ae2-4b45-baad-bfc91406d6a4",
   "metadata": {},
   "source": [
    "#### 2.1.2 (Masked) self-attention layer (20 points)\n",
    "\n",
    "Next, we ask you to implement a layer that performs (optionally masked) multi-headed self-attention in `nanofm.modeling.transformer_layers.Attention`.\n",
    "\n",
    "Remember the scaled dot-product attention formula:\n",
    "$$ \\text{Attention}(Q, K, V) = \\text{softmax}_\\text{row} \\left( \\frac{Q K^T}{\\sqrt{d_k}} \\right) V $$\n",
    "\n",
    "The queries $Q$, the keys $K$, and the values $V$ are all linear projections of $X$:\n",
    "\n",
    "$$ Q(X) = X W_Q^T $$\n",
    "$$ K(X) = X W_K^T $$\n",
    "$$ V(X) = X W_V^T $$\n",
    "\n",
    "The scaling factor $d_k$ is the dimensionality of the keys $K$, i.e. `dim // num_heads`.\n",
    "\n",
    "The attention is performed on `num_heads` heads in parallel (don't use a for loop) in `head_dim = dim // num_heads`-dimensional subspaces and the results are concatenated along the feature dimension.\n",
    "\n",
    "In addition, we want to enable masking of the attention matrix, e.g. for implementing a Transformer decoder.\n",
    "For this, the forward function takes an additional `mask` argument, specifying where to zero-out the attention matrix.\n",
    "In practice, this is implemented by replacing the values of the attention matrix (pre softmax) to minus infinity wherever we don't want any attention flow."
   ]
  },
  {
   "cell_type": "markdown",
   "id": "5b7b50df-d7f8-42af-a49d-bdd1c38aa922",
   "metadata": {},
   "source": [
    "#### 2.1.3 Transformer block (10 points)\n",
    "\n",
    "Next, implement a Transformer block in `nanofm.modeling.transformer_layers.Block`. It is defined as:\n",
    "\n",
    "$$ X_a = X + \\text{Attention}(\\text{LN}(X)) $$\n",
    "$$ X_b = X_a + \\text{MLP}(\\text{LN}(X_a)) $$\n",
    "\n",
    "Here, $\\text{LN}$ denotes (two separate) LayerNorm layers.\n",
    "\n",
    "Don't forget to pass the optional mask to the self-attention layer!"
   ]
  },
  {
   "cell_type": "markdown",
   "id": "893b2a47-bd05-49b7-a2a9-858ae9e39bc6",
   "metadata": {},
   "source": [
    "#### 2.1.4 Assembling the blocks into a Transformer tunk (10 points)\n",
    "\n",
    "Now we have all the building blocks to create a Transformer trunk! \n",
    "\n",
    "In `nanofm.modeling.transformer_layers.TransformerTrunk`, create an `torch.nn.ModuleList` containing multiple Transformer blocks, and in the forward pass call them one after another.\n",
    "Again, make sure to pass the mask!"
   ]
  },
  {
   "cell_type": "markdown",
   "id": "d184c029-93e6-48a6-ae2a-2eb5421e598e",
   "metadata": {},
   "source": [
    "#### 2.1.5 Initialize nanoGPT, implement the forward function, and loss (20 points)\n",
    "\n",
    "Finally, we can use this Transformer trunk to build a nanoGPT model, which we implement in `nanofm.models.gpt.GPT`.\n",
    "It consists of a few operations executed in series. Initialize the following modules in the constructor:\n",
    "1. The discrete input tokens are embedded with an `nn.Embedding` layer. Initialize `self.input_embedding` accordingly, taking into account the vocabulary size.\n",
    "2. On top of that, we add learnable positional embeddings. Initialize `self.positional_embedding` as an `nn.Parameter` containing a randomly initialized Tensor of shape (`max_seq_len`, `dim`).\n",
    "3. This then gets passed to a Transformer trunk. Initialize `self.trunk` with the trunk you just implemented.\n",
    "4. Finally we project the trunk output through a LayerNorm and output projection that maps the elements from the Transformer dimension to the vocabulary size (as a one-hot vector per token). Initialize `self.out_norm` and `self.to_logits`. The bias term for `self.to_logits` should always be set to False.\n",
    "\n",
    "Next, let's implement the `forward_model` function:\n",
    "1. Pass the input tokens through the embedding, add the positional embedding (make sure to account for the length of the inputs!), pass it through the Transformer trunk, output normalization, and output projection.\n",
    "2. When calling the Transformer trunk, make sure to pass a causal attention mask of shape (1, L, L), where L is the sequence length. The mask is of boolean type, and wherever it is False the attention is masked-out (i.e. set to -infinity), and otherwise it is left untouched. Remember the shape of the attention mask.\n",
    "\n",
    "Finally, we need to compute the cross-entropy loss between the logits and the ground-truth targets. Please complete the `compute_ce_loss` function accordingly, and take into account the padding token. We do not want to compute a loss on those."
   ]
  },
  {
   "cell_type": "markdown",
   "id": "b0f29901-8554-4cf8-b1b2-d10e5b11cc5c",
   "metadata": {},
   "source": [
    "#### 2.1.6 Write the generation loop (20 points)\n",
    "\n",
    "Now we could theoretically train a model, but it would be of no use without a `generate` function. \n",
    "In this function you will run the model in a loop:\n",
    "1. Given the context so far, run the forward function to get the logits. \n",
    "2. Extract the logits of only the last token (it's the next token prediction we care about). \n",
    "3. Sample from the probability distribution specified by the last token logits. You can use the helper function `nanofm.utils.sampling.sample_tokens` for that. Make sure to pass the temperature, top-k, and top-p arguments.\n",
    "4. Concatenate the predicted next token with the context. This will be your new context for the next round. \n",
    "5. Respect the halting conditions: A) If you reach the maximum sequence length, stop generating. Take into account the length of the context so far! B) (Optional) In case you generate an `[EOS]` token corresponding to the end-of-sequence, stop generating early.\n",
    "6. Finally after doing the entire loop and halting, return the sequence."
   ]
  },
  {
   "cell_type": "markdown",
   "id": "029b6865-bfc5-4b6e-8bcd-5b242d582b0e",
   "metadata": {},
   "source": [
    "#### 2.1.7 Text tokenizer overview\n",
    "\n",
    "For this part, you will not need to implement anything. This is to familiarize you with the text tokenizer we use.\n",
    "A text tokenizer's job is to take any text and turn it into a sequence of integers (i.e. encode it) that we can predict autoregressively, and to then turn that original or a predicted sequence back into text.\n",
    "Text tokenizers come in many shapes and forms, but commonly they turn subwords into a unique token, using a vocabulary of a pre-determined size. \n",
    "\n",
    "For nanoGPT, we will use the [GPT-2](https://cdn.openai.com/better-language-models/language_models_are_unsupervised_multitask_learners.pdf) tokenizer. It has a base vocabulary size of 50257, but we will add three more special tokens to it:\n",
    "- `[PAD]`: Not all samples have the same length, but in order to batch them we need to equalize their lenght. The simplest way to do this is to pad the sequences up to some maximum sequence length, e.g. 256 tokens, using special `[PAD]` tokens. During training, we do not compute a loss on these tokens.\n",
    "- `[SOS]`: The first token could just be the first token of the text sequence, but we want to be able to perform *unconditional* generation, i.e. we want to be able to generate the entire sequence and not have to give it a first token to start generating. The start-of-sequence token `[SOS]` serves as that marker. We prepend it to every sequence.\n",
    "- `[EOS]`: Given that not all samples have the same length, we need a way for the model to indicate that it is done generating the next tokens. The end-of-sequence `[EOS]` token serves that purpose."
   ]
  },
  {
   "cell_type": "code",
   "execution_count": 3,
   "id": "e07c5fb8-88b2-40a8-ab50-7a7ef878e75f",
   "metadata": {},
   "outputs": [
    {
     "data": {
      "text/plain": [
       "GPT2TokenizerFast(name_or_path='gpt2', vocab_size=50257, model_max_length=1024, is_fast=True, padding_side='right', truncation_side='right', special_tokens={'bos_token': '[SOS]', 'eos_token': '[EOS]', 'unk_token': '<|endoftext|>', 'pad_token': '[PAD]'}, clean_up_tokenization_spaces=False, added_tokens_decoder={\n",
       "\t50256: AddedToken(\"<|endoftext|>\", rstrip=False, lstrip=False, single_word=False, normalized=True, special=True),\n",
       "\t50257: AddedToken(\"[PAD]\", rstrip=False, lstrip=False, single_word=False, normalized=False, special=True),\n",
       "\t50258: AddedToken(\"[SOS]\", rstrip=False, lstrip=False, single_word=False, normalized=False, special=True),\n",
       "\t50259: AddedToken(\"[EOS]\", rstrip=False, lstrip=False, single_word=False, normalized=False, special=True),\n",
       "}\n",
       ")"
      ]
     },
     "execution_count": 3,
     "metadata": {},
     "output_type": "execute_result"
    }
   ],
   "source": [
    "# Load the GPT-2 tokenizer\n",
    "tokenizer = AutoTokenizer.from_pretrained(\"gpt2\", trust_remote_code=True)\n",
    "\n",
    "# Add padding, start-of-sequence, and end-of-sequence tokens\n",
    "tokenizer.add_special_tokens({'pad_token': '[PAD]'})\n",
    "tokenizer.add_special_tokens({\n",
    "    'bos_token': '[SOS]',\n",
    "    'eos_token': '[EOS]',\n",
    "})\n",
    "tokenizer._tokenizer.post_processor = TemplateProcessing(\n",
    "    single=\"[SOS] $A [EOS]\",\n",
    "    special_tokens=[('[EOS]', tokenizer.eos_token_id), ('[SOS]', tokenizer.bos_token_id)],\n",
    ")\n",
    "tokenizer"
   ]
  },
  {
   "cell_type": "markdown",
   "id": "de38d476-9aad-42b1-a28b-8b486372e6de",
   "metadata": {},
   "source": [
    "Let's see what happens when we encode sentences of variable length. Remember, we wrap the texts with an `[SOS]` (index 50258) and `[EOS]` (index 50259) token, and pad to the maximum sequence length with a `[PAD]` (index 50257) token. If a text is longer than the specified maximum sequence length, we truncate it."
   ]
  },
  {
   "cell_type": "code",
   "execution_count": 12,
   "id": "c94471d2-edca-4ed2-8009-eee809689df9",
   "metadata": {},
   "outputs": [
    {
     "data": {
      "text/plain": [
       "tensor([[50258,  1212,   318,   281,  1672,    13, 50259, 50257, 50257, 50257],\n",
       "        [50258,  7454,  2402,   257,   640,   612,   373,   257,  2068, 50259]])"
      ]
     },
     "execution_count": 12,
     "metadata": {},
     "output_type": "execute_result"
    }
   ],
   "source": [
    "texts = [\n",
    "    'This is an example.',\n",
    "    'Once upon a time there was a quick brown fox.',\n",
    "]\n",
    "tokens = tokenizer(texts, max_length=10, padding='max_length', truncation=True, return_tensors='pt')['input_ids']\n",
    "tokens"
   ]
  },
  {
   "cell_type": "markdown",
   "id": "de2644e6-cf9d-44af-8cdc-ae6adc4edf61",
   "metadata": {},
   "source": [
    "We can use the same tokenizer to turn the sequences back into text:"
   ]
  },
  {
   "cell_type": "code",
   "execution_count": 13,
   "id": "468482ba-b525-416d-8f4f-6335240f837b",
   "metadata": {},
   "outputs": [
    {
     "name": "stdout",
     "output_type": "stream",
     "text": [
      "[SOS]This is an example.[EOS][PAD][PAD][PAD]\n",
      "[SOS]Once upon a time there was a quick[EOS]\n"
     ]
    }
   ],
   "source": [
    "for token_seq in tokens:\n",
    "    print(tokenizer.decode(token_seq))"
   ]
  },
  {
   "cell_type": "markdown",
   "id": "90a75525-3ab5-4d39-99ad-99d5b6105ea0",
   "metadata": {},
   "source": [
    "Let's define a helper function to filter out the special tokens:"
   ]
  },
  {
   "cell_type": "code",
   "execution_count": 6,
   "id": "a47251f7-7c89-4c6d-b827-2ee4f9c31bf0",
   "metadata": {},
   "outputs": [],
   "source": [
    "def token_ids_to_text(token_ids, text_tokenizer):\n",
    "    \"\"\" Helper function to turn token sequences back to well-formatted text. \"\"\"\n",
    "    decoded = text_tokenizer.decode(token_ids)\n",
    "    # Remove [SOS], [EOS], and [PAD] tokens along with surrounding horizontal whitespace only.\n",
    "    decoded = re.sub(r'[ \\t]*\\[(SOS|EOS|PAD)\\][ \\t]*', ' ', decoded)\n",
    "    # Collapse extra horizontal spaces in each line without touching newline characters.\n",
    "    decoded = '\\n'.join([re.sub(r'[ \\t]+', ' ', line).strip() for line in decoded.splitlines()])\n",
    "    return decoded"
   ]
  },
  {
   "cell_type": "code",
   "execution_count": 7,
   "id": "513e5fce-30e9-441f-9343-519c95a5bada",
   "metadata": {},
   "outputs": [
    {
     "name": "stdout",
     "output_type": "stream",
     "text": [
      "This is an example.\n",
      "Once upon a time there was a quick\n"
     ]
    }
   ],
   "source": [
    "for token_seq in tokens:\n",
    "    print(token_ids_to_text(token_seq, text_tokenizer=tokenizer))"
   ]
  },
  {
   "cell_type": "markdown",
   "id": "6d99c198-7515-43fc-9c26-3f08388ab392",
   "metadata": {},
   "source": [
    "### 2.2 Training the model\n",
    "\n",
    "We defined a training config for you in: `cfgs/nanoGPT/tinystories_d8w512.yaml`. Please familiarize yourself with all parts.\n",
    "Please don't forget to replace the Weights & Bias entity with your own.\n",
    "\n",
    "On a 2xV100 node, you can start the training like:\n",
    "```\n",
    "OMP_NUM_THREADS=1 torchrun --nproc_per_node=2 run_training.py --config cfgs/nanoGPT/tinystories_d8w512.yaml\n",
    "```\n",
    "\n",
    "During training the script saves intermediate checkpoints at regular intervals. In case your training crashes, the training automatically resumes from that last checkpoint.\n",
    "In case you don't want to resume training and instead start over from scratch, please either delete the checkpoint directory of that run (e.g. in `./outputs/nanoGPT/tinystories_d8w512/`) or rename it.\n",
    "\n",
    "This training should take over one hour. You should reach a final validation loss around 1.3, and your loss curves should look something like the following:\n",
    "\n",
    "<img src=\"./assets/nanoGPT_tinystories.png\" alt=\"nanoGPT TinyStories loss curves\" width=\"1000\">"
   ]
  },
  {
   "cell_type": "markdown",
   "id": "8c94b2be-6984-4c5d-8f70-e0822b153b01",
   "metadata": {},
   "source": [
    "### 2.3 Show your loss curves (10 points)\n",
    "\n",
    "Screenshot your loss curves and show them here. Add the image to the `assets` directory and change the path in the markdown. You will get 10 points for reasonable loss curves (similar to the sample loss curves above).\n",
    "\n",
    "<img src=\"./assets/result-tiny-stories.png\" alt=\"nanoGPT TinyStories loss curves\" width=\"1000\">"
   ]
  },
  {
   "cell_type": "code",
   "execution_count": null,
   "id": "c54af922",
   "metadata": {},
   "outputs": [],
   "source": []
  },
  {
   "cell_type": "markdown",
   "id": "99fbab3a-bb76-4e5d-bc78-b74bf6063dd7",
   "metadata": {},
   "source": [
    "### 2.4 Evaluating the model (10 points)\n",
    "\n",
    "After you completed the training, load the model with the following cell. You may need to adjust the path if you changed it.\n",
    "You will get 10 points if the outputs look reasonable (similar to the sample outputs provided below).\n",
    "\n",
    "Hint: You can also load intermediate safetensors checkpoints to check the progress during training."
   ]
  },
  {
   "cell_type": "code",
   "execution_count": 14,
   "id": "ffe67e53-b62f-4664-98b3-e6a8471c82e6",
   "metadata": {},
   "outputs": [
    {
     "name": "stdout",
     "output_type": "stream",
     "text": [
      "25.174528M parameters\n"
     ]
    }
   ],
   "source": [
    "ckpt_path = './outputs/nanoGPT/tinystories_d8w512/checkpoint-final.safetensors'\n",
    "model = load_model_from_safetensors(ckpt_path, device=device)\n",
    "print(f'{model.get_num_params() / 10**6}M parameters')"
   ]
  },
  {
   "cell_type": "markdown",
   "id": "78151077-58e0-4499-85f1-92122d6ffd25",
   "metadata": {},
   "source": [
    "Let's generate some random (unconditional) stories!"
   ]
  },
  {
   "cell_type": "code",
   "execution_count": 15,
   "id": "d40c05a6-fd08-4fe9-bdbe-86f61a1d6c5a",
   "metadata": {},
   "outputs": [
    {
     "name": "stdout",
     "output_type": "stream",
     "text": [
      "Once there was a fancy girl who lived at the edge of the pond. She loved going swimming too and was always b able to see the bubbles and hear the rippling in the water.\n",
      "\n",
      "One day, she heard a strange noise coming from the water. She looked around but nothing was there. Then a big cloud appeared in the sky! It was so big and warm that it covered the pond.\n",
      "\n",
      "The girl got a little scared, so she quickly swam away and then she knew. She looked back, but all the bubbles were glowing! She was so excited and she ran out of the pond.\n",
      "\n",
      "But then she disappeared from sight. She felt very sad and confused, wishing she had never gone to a fancy pond. But all that hoped was her boring day.\n",
      "\n",
      "--------------------------------------------------\n",
      "\n",
      "Sara liked to make things. She had many things to make with, like counters, chairs, and signs. She knew many things and tried to find ways to connect. She liked to make things High up in the living room.\n",
      "\n",
      "One day, Sara had a bad idea. She wanted to make a new machine with a big tool. Maybe it could sell things to other people. She thought Tom would like it. He would teach Sara how to make things high.\n",
      "\n",
      "She asked her mom for help. Her mom showed her how to use the tool. It was a big weak machine. Sara was proud of herself. She knew how to make the machine fast and strong.\n",
      "\n",
      "They worked on the machine together. They put some tools and whilst a hammer, a strange thing that could sneak into the basement floor. Sara and her mom were curious. They thought it was a fun game.\n",
      "\n",
      "They used the machine to build a tall tower with the screw, a wall, and a door. They put the blocks and the numbers on top of the tower. They made might open a secret world. Sara said, \"This is the best place ever!\"\n",
      "\n",
      "Her mom said, \"You did a great job. I are very proud of\n",
      "\n",
      "--------------------------------------------------\n",
      "\n",
      "Once upon a time there was a little boy called Tommy. Tommy wanted to solve all his puzzles but he could never do it. Everywhere he went, he tried to find them.\n",
      "\n",
      "One day he had an idea. He went to the backyard and started looking around. Suddenly, he saw a large lip with a big thumb. He wanted to solve the big lip with it.\n",
      "\n",
      "So Tommy grabbed the lip and started looking around. He tried to grab the lip with the big thumb, but it was too big and heavy.\n",
      "\n",
      "Finally, he spotted a tall tree. He decided to climb up the tree. He grabbed onto the lip with his hands and started to pull himself up. He was determined he could do it and he held on tight!\n",
      "\n",
      "With the lip above his head, Tommy held his arms up in the air and felt so proud that he had solved the big lip with the huge thumb!\n",
      "\n",
      "--------------------------------------------------\n",
      "\n",
      "Once upon a time there was a huge dog named Dot. She had a red cap as she wore every day. Every day she went on adventures with her cap on.\n",
      "\n",
      "Today was no different. Dot was walking down the street when she saw something incredible. It was a big park with lots of people. She stopped to watch them playing. Her creamy brown hair filled the park and it was so beautiful!\n",
      "\n",
      "At the park, they began to read and notice out together they had a slide.Jump with her cap, she pedaled towards them and repeated it: \"The slide!\" Everyone clapped and cheered.\n",
      "\n",
      "They enjoyed themselves while they continued on, one of the members with her cap and Zack. They all knew they could do this for fun and celebrate.\n",
      "\n",
      "--------------------------------------------------\n",
      "\n",
      "Once upon a time, in a small house, there was a boy. His name was Tom. He had a toy phone. The toy phone could make funny sounds. Tom was very excited.\n",
      "\n",
      "One day, Tom saw something new around his house. It was a big cake. The cake looked very good. Tom wanted to eat the cake, but he was very small. He could not resist. He jumped on the table and tried to catch the cake.\n",
      "\n",
      "Tom was so cute to the cake. He whispered to his mom, \"Can I have some cake now?\" His mom did not believe him. She knew he had been a baby. She did not want Tom to eat the cake. She asked, \"Tom, do you want some cake?\" Tom was happy to have some cake and shared it with his mom. They both lived happily ever after.\n",
      "\n",
      "--------------------------------------------------\n",
      "\n"
     ]
    }
   ],
   "source": [
    "for _ in range(5):\n",
    "    output = model.generate(context=[tokenizer.bos_token_id], temp=1.0, top_p=0.0, top_k=0.0, eos_idx=tokenizer.eos_token_id)[0]\n",
    "    print(token_ids_to_text(output, text_tokenizer=tokenizer))\n",
    "    print('\\n' + '-'*50 + '\\n')"
   ]
  },
  {
   "cell_type": "markdown",
   "id": "d024a84c-7727-4c17-acb5-4b415531726c",
   "metadata": {},
   "source": [
    "We don't have to generate the stories in a completely unconditional way. Let's try to probe the model and see if it learned some world knowledge. \n",
    "If we probe the model with the phrase `Daisy was hungry, so she`, we should expect a continuation talking about her getting food. "
   ]
  },
  {
   "cell_type": "code",
   "execution_count": 17,
   "id": "bf89eced-7cfd-42ef-a0d9-26758f7c543f",
   "metadata": {},
   "outputs": [
    {
     "name": "stdout",
     "output_type": "stream",
     "text": [
      "Daisy was hungry, so she poured some paint on the floor. It was her favorite! She was so happy, she giggled and ran around the house.\n",
      "\n",
      "But as the days went on, Daisy started to get tired. She had been playing and gone wild, but now it was just a fun!\".\n",
      "\n",
      "Suddenly, Daisy's mummy came into the room. Daisy was happy, she put some paint on the floor. Then she noticed the paint on the wall.\n",
      "\n",
      "Daisy had an idea! She picked up the paint and took a brush. Then, she opened the paint and put it in the paint.\n",
      "\n",
      "Daisy started sprinkling and painting the paint. Her mummy had a sour look on her face! She smiled and said, \"Thank you Daisy!\" Daisy was so happy. She was glad she had fun painting with the paint.\n",
      "\n",
      "--------------------------------------------------\n",
      "\n",
      "Daisy was hungry, so she went to the park. She saw many children playing and had her name like Tommy.\n",
      "\n",
      "She wanted to join them, so she ran to the park. She looked around and saw the other children playing and going to join in the fun. Tommy was excited too, so he said he had a joke in his leg.\n",
      "\n",
      "They all joined together and started to laugh. They joked to each other and Daisy laughed and laughed.\n",
      "\n",
      "Soon it was time for lunch, so Daisy said the dod done \"I get enough of the jokes for everyone\". She went home with a happy smile on her face.\n",
      "\n",
      "--------------------------------------------------\n",
      "\n",
      "Daisy was hungry, so she went for a walk in the hot sun. She wandered around until she spotted a huge sand castle. It was so tall and tall, and it made her very happy. She started walking towards it and found a door.\n",
      "\n",
      "Inside the castle, there was a big glass room. Daisy held up the glass and said, â€œThis is the nice warm placeâ€. She was about to sit there when a kind man walked past.\n",
      "\n",
      "â€œYou can cross it now.â€ Daisy said.\n",
      "\n",
      "The man smiled and said, â€œI have the first time!â€ As Tom walked the toilet, he suddenly wiped his shoulders - he had painted yellow and purple. Daisy smiled and thanked the man.\n",
      "\n",
      "â€œWhat a lovely rainy day!â€ Tom said.\n",
      "\n",
      "â€œLetâ€™s go home now,â€ Daisy said. She ran off to the steps walking, humming a song as she walked.\n",
      "\n",
      "--------------------------------------------------\n",
      "\n",
      "Daisy was hungry, so she decided to go to the kitchen. She opened the fridge and saw that there was food inside. It smelled so good.\n",
      "\n",
      "He said, \"Mum, can I try there dinner?\"\n",
      "\n",
      "\"No,\" said Daisy. \"That cook won't be fair for you!\"\n",
      "\n",
      "Mum sighed and insisted that Daisy have dinner now, why don't you come inside for a be?\"\n",
      "\n",
      "Daisy was so excited that she ran into the kitchen. She was curious to find a carrot and decided to go inside the box. It was still there when Daisy noticed a small box. She opened the box and found lots of surprises.\n",
      "\n",
      "It was a basket of seeds, aww- wow apple, orange and orange! Daisy knew that this would be the most delicious and, and she happily ate every last bite. As she ate, she looked up at the overseeing and had a full tummy. It was the best dinner ever!\n",
      "\n",
      "--------------------------------------------------\n",
      "\n",
      "Daisy was hungry, so she went to the kitchen. She opened the cabinet door, and there was a big, juicy apple. It was the perfect snack for her, so she reached for the apple and plangle it. She ate it quickly and felt so happy.\n",
      "\n",
      "But, as she was about to take the apple out of the cabinet, she heard her mom calling her. Daisy paused and said, \"Bob, I made a mistake! I don't want it anymore!\"\n",
      "\n",
      "Her mom smiled and said, \"Don't worry, Daisy. Just remember to always take your time. Say orders to your own things, and you don't need to take things without asking.\"\n",
      "\n",
      "Daisy nodded and said, \"Okay, mom. I'll do it!\"\n",
      "\n",
      "And with her mom's help, Daisy happily ate her apple.\n",
      "\n",
      "--------------------------------------------------\n",
      "\n"
     ]
    }
   ],
   "source": [
    "context = tokenizer.encode('Daisy was hungry, so she')[:-1] # Encode and discard automatically added [EOS] token\n",
    "\n",
    "for _ in range(5):\n",
    "    output = model.generate(context=context, temp=1.0, top_p=0.0, top_k=0.0, eos_idx=tokenizer.eos_token_id)[0]\n",
    "    print(token_ids_to_text(output, text_tokenizer=tokenizer))\n",
    "    print('\\n' + '-'*50 + '\\n')"
   ]
  },
  {
   "cell_type": "markdown",
   "id": "cb687d48-e5ad-48a2-9e5b-e01099505d61",
   "metadata": {},
   "source": [
    "### 2.5 Open-ended questions (5 points each)\n",
    "\n",
    "Please answer the following questions. You may use additional cells to demonstrate your answers if necessary.\n",
    "\n",
    "- Q2.1: What effect does the temperature have on the generations?\n",
    "    - A2.1: Higher temperature increases randomness and creativity while lower temperature makes outputs more focused and deterministic\n",
    "- Q2.2: What about the top_k and top_p parameters?\n",
    "    - A2.2: Top_k limits sampling to just the k most likely tokens, while top_p (nucleus sampling) dynamically selects tokens until their cumulative probability exceeds p.\n",
    "- Q2.3: Sometimes the generations of this model are not very good. What could we do to improve it further?\n",
    "    - A2.3: We could increase model size, train on more data, use a larger context window, fine-tune on specific domains, or implement better sampling strategies like beam search."
   ]
  },
  {
   "cell_type": "code",
   "execution_count": 18,
   "id": "3d2feb75",
   "metadata": {},
   "outputs": [
    {
     "name": "stdout",
     "output_type": "stream",
     "text": [
      "\n",
      "High Temperature (temp=1.0):\n",
      "--------------------------------------------------\n",
      "Sample 1:\n",
      "Tod was sick, so he was sad and lonely. He had no one to play with, but he couldn't cry. He wanted to know what would happen, but he just couldn't make it happen.\n",
      "\n",
      "One day, he tried to heal his mother. As he opened the door, she said, \"Tod! I will teach you something amazing.\" She gave him a glass and said, \"If you spread this glass, something magical will...\"\n",
      "\n",
      "Tod watched as the pieces inspired him. He carefully spread and he soon became feeling better. Suddenly, he could hear a familiar voice. It said, \"Trening help is better than before!\"\n",
      "\n",
      "Tod was so surprised, he asked, \"Who?\" She replied, \"Post! You're a star.\"\n",
      "\n",
      "The star thanked him for his help and hummed a tune. Teddy started to trust a magical wand and he suddenly felt healed. He flew all around the room, sprinkling his comfort and loving voice. The colors were even more beautiful and Beth's neighbour loved it.\n",
      "\n",
      "T Flora and Bobby were now the best of friends.\n",
      "------------------------------\n",
      "Sample 2:\n",
      "Tod was sick, so he had to take a deep bath in the tub. Before bed, his mom gave him a special special spoon to help him stay nice.\n",
      "\n",
      "The spoon was special because it had a special power. It could easily touch the water when he touched it.x watched it as the water spread around the bath.\n",
      "\n",
      "After biting the spoon, we all goodbye and forehead! Also, it was important to help both of their bodies feel better. Somehow, when good.\n",
      "------------------------------\n",
      "\n",
      "\n",
      "\n",
      "Low Temperature (temp=0.3):\n",
      "--------------------------------------------------\n",
      "Sample 1:\n",
      "Tod was sick, so he had to stay in bed. He was feeling very hot and tired. He wanted to go outside and play, but he knew he had to stay in bed.\n",
      "\n",
      "Tod had a dream that he was in a big, dark forest. He saw a big, dark cave and decided to go in. He was so excited!\n",
      "\n",
      "Tod's mom saw him and said, \"Tod, it's time to go home. You need to get some rest.\"\n",
      "\n",
      "Tod said, \"But I want to stay in bed. I'm not tired.\"\n",
      "\n",
      "His mom said, \"I know you want to stay in bed, but it's time to go. You need to rest and be healthy. You can stay here and play with your toys.\"\n",
      "\n",
      "Tod said, \"Okay, mom. I'll stay in bed.\"\n",
      "\n",
      "Tod's mom said, \"Goodnight, my sweetie. I'll get you some rest.\"\n",
      "\n",
      "Tod said, \"Goodnight, mom. I'm ready to go.\"\n",
      "\n",
      "Tod said, \"Goodnight, mom. I'll be back in bed.\"\n",
      "\n",
      "And with that, he went off to sleep.\n",
      "------------------------------\n",
      "Sample 2:\n",
      "Tod was sick, so he was very sick. His mommy gave him some medicine, but it was too difficult for him to swallow. He was so scared that he started to cry.\n",
      "\n",
      "\"Tod, I'm so sorry, honey,\" his mommy said. \"It's too difficult for you to take it.\"\n",
      "\n",
      "Tod thought for a moment and then said, \"I know, honey. I'll take it to the doctor.\"\n",
      "\n",
      "So his mommy took the medicine and put it in his mouth. She said, \"It's not too difficult, but it will help you feel better.\"\n",
      "\n",
      "Tod was still a bit scared, but he was also very brave. He took the medicine and soon he was feeling much better.\n",
      "\n",
      "The medicine was so yummy that he was very happy. He thanked his mommy for helping him and they both went home.\n",
      "------------------------------\n",
      "\n",
      "\n",
      "\n",
      "With Top-k (temp=1.0, top_k=10):\n",
      "--------------------------------------------------\n",
      "Sample 1:\n",
      "Tod was sick, so he had to stay in a hospital. He was very sick and the doctors were very nice. They brought him lots of medicine and he felt really fine. They gave him a spoon and said good job. He had to rest in bed until he fell asleep.\n",
      "\n",
      "Tod was a very good boy who knew what to do. He was a very good boy, so he stayed in his room. He was very quiet and still while he ate the medicine, and then he was well asleep.\n",
      "\n",
      "Tod had a very important job, but he was very thankful for all the healthy food. Every night, he would go to bed, take a nap, and when he woke up he felt much better. He knew he had done the right thing by being feeling fine and taking a long nap.\n",
      "------------------------------\n",
      "Sample 2:\n",
      "Tod was sick, so he had to stay in bed all day. He was sad and tired. He had an itch and itchy to make him feel like it was going to hurt.\n",
      "\n",
      "Todie's mum saw how sad he was and wanted to help. She went and got a special needle and some thread. She used the needle to sew the thread.\n",
      "\n",
      "Todie watched her mum take the needle off. She was very careful not to hurt herself. She said, \"Todie, you should always be careful. It will help you heal.\"\n",
      "\n",
      "Tylie smiled and felt better. She was happy that she could fix her itch. With her mum's help, they both felt better.\n",
      "------------------------------\n",
      "\n",
      "\n",
      "\n",
      "With Top-p (temp=1.0, top_p=0.9):\n",
      "--------------------------------------------------\n",
      "Sample 1:\n",
      "Tod was sick, so he was all alone. He was cold, so he wanted to stay inside. He put on his warm coat, and went outside. He saw something that made him smile - it was a tray of cookies! He was so excited, he ran over to them, and licked one of the cookies.\n",
      "\n",
      "The tray was just the right size for him, and he was happy. He took a big bite, and it was so delicious! He ate every last piece, and then went back inside for his special treat.\n",
      "\n",
      "Tys had so much fun, and his tummy was getting colder. He was getting colder and colder, and he wanted to get warm. But he knew his mom was right - to stay warm and wait! He closed his eyes, opened his eyes, and began to growl with excitement.\n",
      "\n",
      "Suddenly, he felt like he was completely warm. His tummy was glowing, and he felt warm. He knew he was safe and ready for a nice surprise. From then on, he was always warm, safe and happy, and he never felt alone.\n",
      "------------------------------\n",
      "Sample 2:\n",
      "Tod was sick, so he went to the doctor to check him. \"I'm so sick,\" said the doctor. \"Yes, let's take an x-ray to see what's wrong.\"\n",
      "\n",
      "The doctor looked at the x-ray and said, \"This is a bitter pill.\" The doctor put his hand on the x-ray and took the x-ray. It was very difficult to use the thermometer, but the doctor said it was very special and he needed to hold it steady.\n",
      "\n",
      "Finally, the doctor took the x-ray and told them to remember to be quiet. Then the doctor said, \"This looks much better now!\"\n",
      "\n",
      "Tod said, \"Yes, this is the best help of you. Let's go play outside!\"\n",
      "\n",
      "The doctor and Mom drove to the park and the kids played on the swings and slides. As the sun started to go down, the water outside had stopped and the sky was very blue.\n",
      "\n",
      "Tod was happy to have the doctor's help, but he still enjoyed his rest. The sun kept coming out, but the importance of washing away the doctor's x-ray.\n",
      "------------------------------\n",
      "\n",
      "\n",
      "\n",
      "Combined (temp=0.7, top_k=50, top_p=0.95):\n",
      "--------------------------------------------------\n",
      "Sample 1:\n",
      "Tod was sick, so he went to the doctor. The doctor asked him, \"Where are you feeling?\"\n",
      "Tod was scared, but he said, \"I'm really sick.\"\n",
      "\n",
      "The doctor said, \"I don't feel good, you need to rest.\"\n",
      "\n",
      "Tod started to feel better, so he decided to take his medicine. He drank it and said, \"This is so yucky.\"\n",
      "\n",
      "The doctor said, \"I'm sure you will be feeling better soon.\"\n",
      "\n",
      "Tod said, \"No, it's nothing.\"\n",
      "\n",
      "The doctor said, \"Okay, you can take it slow.\"\n",
      "\n",
      "Tod said, \"Thanks for taking your medicine slow.\"\n",
      "\n",
      "The doctor smiled and said, \"You're very welcome, little guy.\"\n",
      "\n",
      "Tod went home feeling much better and was happy that he had a fresh medicine to take.\n",
      "------------------------------\n",
      "Sample 2:\n",
      "Tod was sick, so he was tired. He had been playing all day and was ready to take a break. He was feeling very worried, so he decided to take a break and get a drink of water.\n",
      "\n",
      "Tod looked around the room and saw a big bottle of juice. He knew he didn't have enough water, so he sneaked up to the bottle and opened it. It was full of watery water. He was so excited!\n",
      "\n",
      "He grabbed the bottle of juice, drank it and felt much better. It was so refreshing. He smiled and drank all the juice until his tummy was full. He was no longer feeling so tired, he was happy and ready to go back to sleep.\n",
      "------------------------------\n",
      "\n",
      "\n"
     ]
    }
   ],
   "source": [
    "context = tokenizer.encode('Tod was sick, so he')[:-1]  \n",
    "\n",
    "parameter_sets = [\n",
    "    {\"name\": \"High Temperature (temp=1.0)\", \"temp\": 1.0, \"top_k\": 0, \"top_p\": 0.0},\n",
    "    {\"name\": \"Low Temperature (temp=0.3)\", \"temp\": 0.3, \"top_k\": 0, \"top_p\": 0.0},\n",
    "    {\"name\": \"With Top-k (temp=1.0, top_k=10)\", \"temp\": 1.0, \"top_k\": 10, \"top_p\": 0.0},\n",
    "    {\"name\": \"With Top-p (temp=1.0, top_p=0.9)\", \"temp\": 1.0, \"top_k\": 0, \"top_p\": 0.9},\n",
    "    {\"name\": \"Combined (temp=0.7, top_k=50, top_p=0.95)\", \"temp\": 0.7, \"top_k\": 50, \"top_p\": 0.95},\n",
    "]\n",
    "\n",
    "def fixed_generate(model, context, temp, top_k, top_p, eos_idx):\n",
    "    next_token_info = model.generate(\n",
    "        context=context, \n",
    "        temp=temp, \n",
    "        top_k=top_k, \n",
    "        top_p=top_p, \n",
    "        eos_idx=eos_idx\n",
    "    )\n",
    "    return next_token_info\n",
    "\n",
    "for params in parameter_sets:\n",
    "    print(f\"\\n{params['name']}:\")\n",
    "    print(\"-\" * 50)\n",
    "    \n",
    "    for i in range(2):  \n",
    "        try:\n",
    "            output = fixed_generate(\n",
    "                model, \n",
    "                context=context, \n",
    "                temp=params['temp'], \n",
    "                top_k=params['top_k'], \n",
    "                top_p=params['top_p'], \n",
    "                eos_idx=tokenizer.eos_token_id\n",
    "            )[0]\n",
    "            \n",
    "            print(f\"Sample {i+1}:\")\n",
    "            print(token_ids_to_text(output, text_tokenizer=tokenizer))\n",
    "            print(\"-\" * 30)\n",
    "        except Exception as e:\n",
    "            print(f\"Error: {e}\")\n",
    "            print(\"Fix needed: next_token is a tuple, not a tensor\")\n",
    "            break\n",
    "    \n",
    "    print(\"\\n\")"
   ]
  },
  {
   "cell_type": "markdown",
   "id": "536ff7f9-f249-4412-a3f6-e60310db279a",
   "metadata": {
    "tags": []
   },
   "source": [
    "---\n",
    "\n",
    "## 3 Training nanoGPT on MNIST for conditional image generation\n",
    "\n",
    "In this part, we will train our nanoGPT on images, similar in spirit to [iGPT](https://openai.com/research/image-gpt).\n",
    "What this means is that we turn images into a sequence of discrete tokens and train a decoder-only Transformer to perform next-token-prediction.\n",
    "At inference time, we can then autoregressively generate new images from the training distribution, conditioned on the class label!\n",
    "\n",
    "If you have successfully completed the nanoGPT implementation, you can directly re-use it for this step! The only thing we change is the way we represent the data."
   ]
  },
  {
   "cell_type": "markdown",
   "id": "fe0d1209-9135-4254-929f-723b52862259",
   "metadata": {},
   "source": [
    "### 3.1 Tokenization\n",
    "\n",
    "First, we need to turn images into sequences of discrete tokens.\n",
    "\n",
    "A common way of performing tokenization of images is to train a discrete VAE, such as [VQ-GAN](https://arxiv.org/abs/2012.09841) to autoencode images through a discrete bottleneck. This is an entire research field of its own, so we will not go further into that here.\n",
    "\n",
    "Instead, we will tokenize the images in a much simpler way:\n",
    "- First, we turn the grayscale images into black and white → each image is now a sequence of 14x14 zeros and ones. In this manner, we would already have a sequence of discrete tokens we could model, but the sequence length of 14x14=192 could be shorter.\n",
    "- To reduce the sequence length further, we divide the image into 2x2 patches and turn each of the 2x2 patterns into a unique index. If we flatten each 2x2 patch into a sequence of 4 zeros and ones, we can directly interpret them as integers between 0 and 15. This reduces the sequence length by a factor of four. Much more manageable in our toy setting!\n",
    "\n",
    "While this way of tokenizing is really quite \"toy\", it is indicative of a common problem when dealing with images and transformers: naively turning images to tokens can result in very large sequence lengths.\n",
    "\n",
    "Let's plot some examples of the tokenized images. First is the original image, then we show each token, and finally we show the corresponding token sequence. \n",
    "The first token is the class-label, and the next 49 are the image tokens in raster-scan order. Their token id was shifted by 10 to account for the additional class token (we share the vocabulary with it)."
   ]
  },
  {
   "cell_type": "code",
   "execution_count": 19,
   "id": "c72a238c-283d-4d48-9f9b-dceb30e57729",
   "metadata": {},
   "outputs": [
    {
     "name": "stderr",
     "output_type": "stream",
     "text": [
      "100%|██████████| 9.91M/9.91M [00:00<00:00, 10.2MB/s]\n",
      "100%|██████████| 28.9k/28.9k [00:00<00:00, 302kB/s]\n",
      "100%|██████████| 1.65M/1.65M [00:00<00:00, 2.44MB/s]\n",
      "100%|██████████| 4.54k/4.54k [00:00<00:00, 8.81MB/s]\n"
     ]
    },
    {
     "data": {
      "image/png": "[encoded data removed]",
      "text/plain": [
       "<Figure size 500x500 with 1 Axes>"
      ]
     },
     "metadata": {},
     "output_type": "display_data"
    },
    {
     "data": {
      "image/png": "[encoded data removed]",
      "text/plain": [
       "<Figure size 500x500 with 98 Axes>"
      ]
     },
     "metadata": {},
     "output_type": "display_data"
    },
    {
     "name": "stdout",
     "output_type": "stream",
     "text": [
      "Tokens: tensor([ 7, 10, 10, 10, 10, 10, 10, 10, 10, 10, 10, 10, 10, 10, 10, 10, 10, 22,\n",
      "        22, 23, 20, 10, 10, 10, 10, 10, 17, 10, 10, 10, 10, 10, 11, 18, 10, 10,\n",
      "        10, 10, 10, 16, 10, 10, 10, 10, 10, 14, 18, 10, 10, 10]) \n",
      "\n",
      "\n"
     ]
    },
    {
     "data": {
      "image/png": "[encoded data removed]",
      "text/plain": [
       "<Figure size 500x500 with 1 Axes>"
      ]
     },
     "metadata": {},
     "output_type": "display_data"
    },
    {
     "data": {
      "image/png": "[encoded data removed]",
      "text/plain": [
       "<Figure size 500x500 with 98 Axes>"
      ]
     },
     "metadata": {},
     "output_type": "display_data"
    },
    {
     "name": "stdout",
     "output_type": "stream",
     "text": [
      "Tokens: tensor([ 2, 10, 10, 10, 10, 10, 10, 10, 10, 10, 24, 23, 20, 10, 10, 10, 10, 10,\n",
      "        17, 10, 10, 10, 10, 10, 11, 20, 10, 10, 10, 10, 10, 25, 10, 10, 10, 10,\n",
      "        10, 10, 22, 22, 22, 22, 18, 10, 10, 10, 10, 10, 10, 10]) \n",
      "\n",
      "\n"
     ]
    }
   ],
   "source": [
    "data_loader = create_tokenized_mnist_dataloader(train=False, add_label_token=True, shuffle=False)\n",
    "data_dict = next(iter(data_loader))\n",
    "\n",
    "tokens = data_dict['input_ids']\n",
    "reconst = detokenize_MNIST(tokens, patch_size=2, account_for_labels=True)\n",
    "bits = rearrange(reconst, 'b (nh ph) (nw pw) -> b (nh nw) ph pw', ph=2, pw=2)\n",
    "\n",
    "for i in range(2):\n",
    "    plt.figure(figsize=(5., 5.)); plt.imshow(reconst[i], cmap='Greys'); plt.show()\n",
    "    \n",
    "    fig = plt.figure(figsize=(5., 5.))\n",
    "    grid = ImageGrid(fig, 111, nrows_ncols=(7, 7), axes_pad=0.1)\n",
    "    for j, img in enumerate(bits[i]):\n",
    "        grid[j].imshow(img, cmap='Greys', vmin=0, vmax=1)\n",
    "    plt.show()\n",
    "    \n",
    "    print('Tokens:', tokens[i], '\\n\\n')"
   ]
  },
  {
   "cell_type": "markdown",
   "id": "c5a78d4a-6df4-4d20-8627-a393ddf9634d",
   "metadata": {},
   "source": [
    "### 3.2 Training the model\n",
    "\n",
    "We defined a training config for you in: `cfgs/nanoGPT/mnist_d8w512.yaml`. Please familiarize yourself with all parts.\n",
    "Please don't forget to replace the Weights & Bias entity with your own.\n",
    "\n",
    "On a 1xV100 node, you can start the training like:\n",
    "```\n",
    "OMP_NUM_THREADS=1 torchrun --nproc_per_node=1 run_training.py --config cfgs/nanoGPT/mnist_d8w512.yaml\n",
    "```\n",
    "\n",
    "This training should be pretty fast and only take a few minutes. You should reach a final validation loss below 0.45, and your loss curves should look something like the following:\n",
    "\n",
    "<img src=\"./assets/nanoGPT_mnist.png\" alt=\"nanoGPT MNIST loss curves\" width=\"1000\">"
   ]
  },
  {
   "cell_type": "markdown",
   "id": "92233937-b07b-4313-8004-b17e058ca380",
   "metadata": {},
   "source": [
    "### 3.3 Show your loss curves (10 points)\n",
    "\n",
    "Screenshot your loss curves and show them here. Add the image to the `assets` directory and change the path in the markdown. You will get 10 points for reasonable loss curves (similar to the sample loss curves above).\n",
    "\n",
    "<img src=\"./assets/result-MNIST.png\" alt=\"nanoGPT MNIST loss curves\" width=\"1000\">"
   ]
  },
  {
   "cell_type": "markdown",
   "id": "5afdd8d6-a5fe-46a3-ba4e-7ee872d495ff",
   "metadata": {},
   "source": [
    "### 3.4 Evaluating the model (10 points)\n",
    "\n",
    "After you completed the training, load the model with the following cell. You may need to adjust the path if you changed it.\n",
    "You will get 10 points if the outputs look reasonable (similar to the sample outputs provided below).\n",
    "\n",
    "Hint: You can also load intermediate safetensors checkpoints to check the progress during training."
   ]
  },
  {
   "cell_type": "code",
   "execution_count": 20,
   "id": "cede1ce4-dfff-4a99-aa8d-1761f2141c5d",
   "metadata": {},
   "outputs": [
    {
     "name": "stdout",
     "output_type": "stream",
     "text": [
      "25.174528M parameters\n"
     ]
    }
   ],
   "source": [
    "ckpt_path = './outputs/nanoGPT/mnist_d8w512/checkpoint-final.safetensors'\n",
    "model = load_model_from_safetensors(ckpt_path, device=device)\n",
    "print(f'{model.get_num_params() / 10**6}M parameters')"
   ]
  },
  {
   "cell_type": "markdown",
   "id": "ca54f04f-d106-4cef-b23b-936a91854bd9",
   "metadata": {},
   "source": [
    "Let's plot some class-conditional generations! We seed the generation by providing the first token, whose index is equal to the number we'd like to generate."
   ]
  },
  {
   "cell_type": "code",
   "execution_count": 22,
   "id": "989eecc3-7c72-4a7f-a541-862ab263bc06",
   "metadata": {},
   "outputs": [
    {
     "data": {
      "text/plain": [
       "tensor([[ 5, 10, 10, 10, 10, 10, 10, 10, 10, 10, 10, 13, 13, 10, 10, 10, 10, 15,\n",
       "         20, 10, 10, 10, 10, 10, 15, 21, 13, 10, 10, 10, 10, 10, 10, 15, 20, 10,\n",
       "         10, 10, 10, 11, 24, 10, 10, 10, 10, 10, 10, 10, 10, 10]],\n",
       "       device='cuda:0')"
      ]
     },
     "execution_count": 22,
     "metadata": {},
     "output_type": "execute_result"
    }
   ],
   "source": [
    "label = 5\n",
    "output = model.generate(context=[label], temp=0.7, top_p=0.0)\n",
    "output"
   ]
  },
  {
   "cell_type": "code",
   "execution_count": 23,
   "id": "93a41606-6524-47e4-90ea-ab0b271f0504",
   "metadata": {},
   "outputs": [
    {
     "data": {
      "text/plain": [
       "<matplotlib.image.AxesImage at 0x7fcf87ceb010>"
      ]
     },
     "execution_count": 23,
     "metadata": {},
     "output_type": "execute_result"
    },
    {
     "data": {
      "image/png": "[encoded data removed]",
      "text/plain": [
       "<Figure size 640x480 with 1 Axes>"
      ]
     },
     "metadata": {},
     "output_type": "display_data"
    }
   ],
   "source": [
    "reconst = detokenize_MNIST(output, patch_size=2, account_for_labels=True).cpu()\n",
    "plt.imshow(reconst[0], cmap='gray_r')"
   ]
  },
  {
   "cell_type": "markdown",
   "id": "f3e0c051-cf4f-42ba-ba02-716ad3d2add2",
   "metadata": {},
   "source": [
    "Let's now generate 10 random samples for all 10 classes. Most should look quite reasonable."
   ]
  },
  {
   "cell_type": "code",
   "execution_count": 24,
   "id": "0ca0356c-eb7e-4cab-b242-27525d6a3b38",
   "metadata": {},
   "outputs": [
    {
     "data": {
      "image/png": "[encoded data removed]",
      "text/plain": [
       "<Figure size 800x800 with 200 Axes>"
      ]
     },
     "metadata": {},
     "output_type": "display_data"
    }
   ],
   "source": [
    "def generate_samples(model, temp=1.0, top_p=0.0, top_k=0.0, n_samples=10):\n",
    "    fig = plt.figure(figsize=(8., 8.))\n",
    "    grid = ImageGrid(fig, 111, nrows_ncols=(10, n_samples), axes_pad=0.1)\n",
    "    for label in range(10):\n",
    "        for sample_idx in range(n_samples):\n",
    "            grid_idx = label * n_samples + sample_idx\n",
    "            output = model.generate(context=[label], temp=temp, top_p=top_p, top_k=top_k)\n",
    "            reconst = detokenize_MNIST(output, patch_size=2, account_for_labels=True).cpu()\n",
    "            grid[grid_idx].imshow(reconst[0], cmap='Greys', vmin=0, vmax=1)\n",
    "    plt.show()\n",
    "    \n",
    "generate_samples(model, temp=0.7, top_p=0.9, top_k=0.0)"
   ]
  },
  {
   "cell_type": "markdown",
   "id": "c29571b8-ebaf-4ef1-8426-4863e986fff6",
   "metadata": {},
   "source": [
    "### 3.5 Open-ended questions (5 points each)\n",
    "\n",
    "Please answer the following questions. You may use additional cells to demonstrate your answers if necessary.\n",
    "\n",
    "- Q3.1: What effect does the temperature have on the generations?\n",
    "    - A3.1: Higher temperature creates more diverse and potentially noisy digit images while lower temperature produces more standard, conservative digit shapes that closely match common examples.\n",
    "- Q3.2: What about the top_k and top_p parameters?\n",
    "    - A3.2: Top_k restricts sampling to only the k most likely pixel patterns while top_p dynamically selects patches until reaching probability threshold p, both helping balance creativity with recognizable digit structure.\n",
    "- Q3.3: How might we extend this to text-to-image?\n",
    "    - A3.3: We could encode text descriptions as conditioning vectors that guide the autoregressive generation process, similar to how DALL-E works but with sequential patch generation rather than diffusion."
   ]
  },
  {
   "cell_type": "code",
   "execution_count": 27,
   "id": "01da7d09",
   "metadata": {},
   "outputs": [
    {
     "name": "stderr",
     "output_type": "stream",
     "text": [
      "/tmp/ipykernel_3616/4077423569.py:50: UserWarning: This figure includes Axes that are not compatible with tight_layout, so results might be incorrect.\n",
      "  plt.tight_layout()\n"
     ]
    },
    {
     "data": {
      "image/png": "[encoded data removed]",
      "text/plain": [
       "<Figure size 900x900 with 270 Axes>"
      ]
     },
     "metadata": {},
     "output_type": "display_data"
    },
    {
     "data": {
      "image/png": "[encoded data removed]",
      "text/plain": [
       "<Figure size 1200x300 with 4 Axes>"
      ]
     },
     "metadata": {},
     "output_type": "display_data"
    },
    {
     "data": {
      "image/png": "[encoded data removed]",
      "text/plain": [
       "<Figure size 1500x200 with 10 Axes>"
      ]
     },
     "metadata": {},
     "output_type": "display_data"
    }
   ],
   "source": [
    "def compare_sampling_parameters(model, save_path=None):\n",
    "    fig = plt.figure(figsize=(9, 9))\n",
    "    parameter_sets = [\n",
    "        {\"name\": \"Low Temperature (0.2)\", \"temp\": 0.2, \"top_k\": 0, \"top_p\": 0.0},\n",
    "        {\"name\": \"Medium Temperature (0.7)\", \"temp\": 0.7, \"top_k\": 0, \"top_p\": 0.0},\n",
    "        {\"name\": \"High Temperature (1.5)\", \"temp\": 1.5, \"top_k\": 0, \"top_p\": 0.0},\n",
    "        \n",
    "        {\"name\": \"Top-k = 5\", \"temp\": 1.0, \"top_k\": 5, \"top_p\": 0.0},\n",
    "        {\"name\": \"Top-k = 20\", \"temp\": 1.0, \"top_k\": 20, \"top_p\": 0.0},\n",
    "        {\"name\": \"Top-k = 50\", \"temp\": 1.0, \"top_k\": 50, \"top_p\": 0.0},\n",
    "        \n",
    "        {\"name\": \"Top-p = 0.5\", \"temp\": 1.0, \"top_k\": 0, \"top_p\": 0.5},\n",
    "        {\"name\": \"Top-p = 0.9\", \"temp\": 1.0, \"top_k\": 0, \"top_p\": 0.9},\n",
    "        {\"name\": \"Top-p = 0.99\", \"temp\": 1.0, \"top_k\": 0, \"top_p\": 0.99},\n",
    "    ]\n",
    "    \n",
    "    n_params = len(parameter_sets)\n",
    "    n_samples = 5  \n",
    "    n_digits = 3   \n",
    "    grid = ImageGrid(fig, 111, \n",
    "                     nrows_ncols=(n_params, n_digits * n_samples),\n",
    "                     axes_pad=0.3)\n",
    "    \n",
    "    digits_to_generate = [0, 5, 9]\n",
    "    \n",
    "    for param_idx, params in enumerate(parameter_sets):\n",
    "        row_start_idx = param_idx * n_digits * n_samples\n",
    "        grid[row_start_idx].set_title(params[\"name\"], size=10, loc='left')\n",
    "        \n",
    "        for digit_idx, digit in enumerate(digits_to_generate):\n",
    "            for sample_idx in range(n_samples):\n",
    "                grid_idx = row_start_idx + digit_idx * n_samples + sample_idx\n",
    "                if sample_idx == 0:\n",
    "                    grid[grid_idx].set_ylabel(f\"Digit {digit}\", rotation=90, labelpad=15)\n",
    "                try:\n",
    "                    output = model.generate(\n",
    "                        context=[digit], \n",
    "                        temp=params[\"temp\"], \n",
    "                        top_k=params[\"top_k\"], \n",
    "                        top_p=params[\"top_p\"]\n",
    "                    )\n",
    "                    reconst = detokenize_MNIST(output, patch_size=2, account_for_labels=True).cpu()\n",
    "                    grid[grid_idx].imshow(reconst[0], cmap='Greys', vmin=0, vmax=1)\n",
    "                    grid[grid_idx].axis('off')\n",
    "                except Exception as e:\n",
    "                    grid[grid_idx].text(0.5, 0.5, f\"Error: {str(e)}\", \n",
    "                                        ha='center', va='center', transform=grid[grid_idx].transAxes)\n",
    "                    grid[grid_idx].axis('off')\n",
    "    \n",
    "    plt.tight_layout()\n",
    "    if save_path:\n",
    "        plt.savefig(save_path, dpi=200, bbox_inches='tight')\n",
    "    plt.show()\n",
    "\n",
    "def text_to_digit_example(model):\n",
    "    text_descriptions = [\n",
    "        \"A curvy digit with a loop\",\n",
    "        \"A straight line pointing up\",\n",
    "        \"A circle\",                             \n",
    "        \"A digit with a curved top and straight bottom\",  \n",
    "    ]\n",
    "    text_to_digit_map = {\n",
    "        \"A curvy digit with a loop\": 8,\n",
    "        \"A straight line pointing up\": 1,\n",
    "        \"A circle\": 0,\n",
    "        \"A digit with a curved top and straight bottom\": 5,\n",
    "    }\n",
    "    \n",
    "    fig, axes = plt.subplots(1, len(text_descriptions), figsize=(12, 3))\n",
    "    \n",
    "    for i, text in enumerate(text_descriptions):\n",
    "        digit = text_to_digit_map[text]\n",
    "        output = model.generate(context=[digit], temp=0.7, top_p=0.9)\n",
    "        reconst = detokenize_MNIST(output, patch_size=2, account_for_labels=True).cpu()\n",
    "        axes[i].imshow(reconst[0], cmap='Greys', vmin=0, vmax=1)\n",
    "        axes[i].set_title(f'\"{text}\"', fontsize=9)\n",
    "        axes[i].axis('off')\n",
    "    \n",
    "    plt.tight_layout()\n",
    "    plt.show()\n",
    "\n",
    "compare_sampling_parameters(model, save_path=\"parameter_effects.png\")\n",
    "text_to_digit_example(model)\n",
    "\n",
    "def temperature_transition(model, digit=5, n_steps=10, min_temp=0.1, max_temp=2.0):\n",
    "    temps = np.linspace(min_temp, max_temp, n_steps)\n",
    "\n",
    "    fig, axes = plt.subplots(1, n_steps, figsize=(15, 2))\n",
    "    fig.suptitle(f\"Effect of Temperature on Digit {digit} Generation\", fontsize=14)\n",
    "    \n",
    "    for i, temp in enumerate(temps):\n",
    "        output = model.generate(context=[digit], temp=temp, top_p=0.0, top_k=0.0)\n",
    "        \n",
    "        reconst = detokenize_MNIST(output, patch_size=2, account_for_labels=True).cpu()\n",
    "        \n",
    "        axes[i].imshow(reconst[0], cmap='Greys', vmin=0, vmax=1)\n",
    "        axes[i].set_title(f'Temp = {temp:.2f}', fontsize=9)\n",
    "        axes[i].axis('off')\n",
    "    \n",
    "    plt.tight_layout(pad=1.0)\n",
    "    plt.show()\n",
    "\n",
    "temperature_transition(model, digit=5)"
   ]
  },
  {
   "cell_type": "markdown",
   "id": "ae8908f8-c491-4519-88c3-72da701e6933",
   "metadata": {
    "tags": []
   },
   "source": [
    "## 4 Further reading\n",
    "\n",
    "Having implemented causal-attention, as well as a decoder-only Transformer, you should not have a hard time implementing cross-attention and a full encoder-decoder Transformer to train on arbitrary sequence-to-sequence tasks.\n",
    "We will explore these topics in the next weeks.\n",
    "That said, here is some further reading material should you want to dive deeper."
   ]
  },
  {
   "cell_type": "markdown",
   "id": "5fbff92e-3808-41b0-a4fe-c3746b6acfdc",
   "metadata": {},
   "source": [
    "### 4.1 Papers & Blogs\n",
    "\n",
    "- [Attention Is All You Need, Vaswani et al. 2017 (Original Transformer paper)](https://arxiv.org/abs/1706.03762)\n",
    "- [Language Models are Unsupervised Multitask Learners, Radford et al. 2018 (GPT-2 paper)](https://cdn.openai.com/better-language-models/language_models_are_unsupervised_multitask_learners.pdf)\n",
    "- [Language Models are Few-Shot Learners, Brown et al. 2020 (GPT-3 paper)](https://arxiv.org/abs/2005.14165)\n",
    "- [PaLM: Scaling Language Modeling with Pathways, Chrowdherry et al. 2022](https://arxiv.org/abs/2204.02311)\n",
    "- [LLaMA: Open and Efficient Foundation Language Models, Touvron et al. 2023](https://arxiv.org/abs/2302.13971)\n",
    "- [Llama 2: Open Foundation and Fine-Tuned Chat Models, Touvron et al. 2023](https://arxiv.org/abs/2307.09288)\n",
    "- [The Llama 3 Herd of Models](https://arxiv.org/abs/2407.21783)\n",
    "- [Scaling Laws for Neural Language Models, Kaplan et al. 2020](https://arxiv.org/abs/2001.08361)\n",
    "- [Training Compute-Optimal Large Language Models, Hoffmann et al. (Chinchilla)](https://arxiv.org/abs/2203.15556)\n",
    "- [Pixel Recurrent Neural Networks, Van den Oord et al. 2016 (PixelCNN)](https://arxiv.org/abs/1601.06759)\n",
    "- [PixelCNN++: Improving the PixelCNN with Discretized Logistic Mixture Likelihood and Other Modifications, Salimans et al. 2017](https://arxiv.org/abs/1701.05517)\n",
    "- [Zero-Shot Text-to-Image Generation, Ramesh et al. 2021 (DALL-E 1)](https://arxiv.org/abs/2102.12092)\n",
    "- [Autoregressive Model Beats Diffusion: Llama for Scalable Image Generation, Sun et al. 2024 (Image generation with simple autoregressive models)](https://arxiv.org/abs/2406.06525)\n",
    "- [An Image is Worth 16x16 Words: Transformers for Image Recognition at Scale, Dosovitskiy et al. 2020 (Vision Transformer paper)](https://arxiv.org/abs/2010.11929)\n",
    "- [Transformer Circuits Thread](https://transformer-circuits.pub/)\n",
    "- [The Transformer Family Version 2.0, Lilian Weng 2023](https://lilianweng.github.io/posts/2023-01-27-the-transformer-family-v2/)\n",
    "- [The Illustrated Transformer, Jay Alammar 2018](https://jalammar.github.io/illustrated-transformer/)"
   ]
  },
  {
   "cell_type": "markdown",
   "id": "6f9ec4f0-9057-4a8c-ac92-dc9603c5012c",
   "metadata": {},
   "source": [
    "### 4.2 Code bases\n",
    "\n",
    "- [nanoGPT](https://github.com/karpathy/nanoGPT)\n",
    "- [Llama model inference code](https://github.com/meta-llama/llama-models)\n",
    "- [LlamaGen](https://github.com/FoundationVision/LlamaGen)\n",
    "- [torchtitan](https://github.com/pytorch/torchtitan)\n",
    "- [lingua](https://github.com/facebookresearch/lingua)\n",
    "\n",
    "You might find that, in many ways, these repos are not that much different from what we implemented here!"
   ]
  },
  {
   "cell_type": "code",
   "execution_count": null,
   "id": "db1e5682-f0d7-415c-9c7c-6aae68b0fe6e",
   "metadata": {},
   "outputs": [],
   "source": []
  }
 ],
 "metadata": {
  "kernelspec": {
   "display_name": "nanofm",
   "language": "python",
   "name": "python3"
  },
  "language_info": {
   "codemirror_mode": {
    "name": "ipython",
    "version": 3
   },
   "file_extension": ".py",
   "mimetype": "text/x-python",
   "name": "python",
   "nbconvert_exporter": "python",
   "pygments_lexer": "ipython3",
   "version": "3.10.16"
  }
 },
 "nbformat": 4,
 "nbformat_minor": 5
}
